{
 "cells": [
  {
   "cell_type": "code",
   "execution_count": 1,
   "metadata": {},
   "outputs": [
    {
     "name": "stdout",
     "output_type": "stream",
     "text": [
      "Race: Bahrain Grand Prix on 2023-03-05\n",
      "   position           driver     constructor grid laps      status  \\\n",
      "0         1   Max Verstappen        Red Bull    1   57    Finished   \n",
      "1         2     Sergio Pérez        Red Bull    2   57    Finished   \n",
      "2         3  Fernando Alonso    Aston Martin    5   57    Finished   \n",
      "3         4     Carlos Sainz         Ferrari    4   57    Finished   \n",
      "4         5   Lewis Hamilton        Mercedes    7   57    Finished   \n",
      "5         6     Lance Stroll    Aston Martin    8   57    Finished   \n",
      "6         7   George Russell        Mercedes    6   57    Finished   \n",
      "7         8  Valtteri Bottas      Alfa Romeo   12   57    Finished   \n",
      "8         9     Pierre Gasly  Alpine F1 Team   20   57    Finished   \n",
      "9        10  Alexander Albon        Williams   15   57    Finished   \n",
      "10       11     Yuki Tsunoda      AlphaTauri   14   57    Finished   \n",
      "11       12   Logan Sargeant        Williams   16   56      +1 Lap   \n",
      "12       13  Kevin Magnussen    Haas F1 Team   17   56      +1 Lap   \n",
      "13       14    Nyck de Vries      AlphaTauri   19   56      +1 Lap   \n",
      "14       15  Nico Hülkenberg    Haas F1 Team   10   56      +1 Lap   \n",
      "15       16      Guanyu Zhou      Alfa Romeo   13   56      +1 Lap   \n",
      "16       17     Lando Norris         McLaren   11   55     +2 Laps   \n",
      "17       18     Esteban Ocon  Alpine F1 Team    9   41  Mechanical   \n",
      "18       19  Charles Leclerc         Ferrari    3   39      Engine   \n",
      "19       20    Oscar Piastri         McLaren   18   13  Electrical   \n",
      "\n",
      "           time points  \n",
      "0   1:33:56.736     25  \n",
      "1       +11.987     18  \n",
      "2       +38.637     15  \n",
      "3       +48.052     12  \n",
      "4       +50.977     10  \n",
      "5       +54.502      8  \n",
      "6       +55.873      6  \n",
      "7     +1:12.647      4  \n",
      "8     +1:13.753      2  \n",
      "9     +1:29.774      1  \n",
      "10    +1:30.870      0  \n",
      "11         None      0  \n",
      "12         None      0  \n",
      "13         None      0  \n",
      "14         None      0  \n",
      "15         None      0  \n",
      "16         None      0  \n",
      "17         None      0  \n",
      "18         None      0  \n",
      "19         None      0  \n"
     ]
    }
   ],
   "source": [
    "import requests\n",
    "import pandas as pd\n",
    "\n",
    "def fetch_race_results(season, round):\n",
    "    url = f\"http://ergast.com/api/f1/{season}/{round}/results.json\"\n",
    "    response = requests.get(url)\n",
    "    if response.status_code == 200:\n",
    "        return response.json()\n",
    "    else:\n",
    "        return None\n",
    "\n",
    "def parse_race_results(data):\n",
    "    race_info = data['MRData']['RaceTable']['Races'][0]\n",
    "    race_name = race_info['raceName']\n",
    "    date = race_info['date']\n",
    "    results = race_info['Results']\n",
    "       \n",
    "    parsed_results = []\n",
    "    for result in results:\n",
    "        parsed_results.append({\n",
    "            'position': result['position'],\n",
    "            'driver': f\"{result['Driver']['givenName']} {result['Driver']['familyName']}\",\n",
    "            'constructor': result['Constructor']['name'],\n",
    "            'grid': result['grid'],\n",
    "            'laps': result['laps'],\n",
    "            'status': result['status'],\n",
    "            'time': result['Time']['time'] if 'Time' in result else None,\n",
    "            'points': result['points']\n",
    "        })\n",
    "       \n",
    "    return race_name, date, pd.DataFrame(parsed_results)\n",
    "\n",
    "if __name__ == \"__main__\":\n",
    "    season = 2023\n",
    "    round = 1\n",
    "    data = fetch_race_results(season, round)\n",
    "    if data:\n",
    "        race_name, date, df = parse_race_results(data)\n",
    "        print(f\"Race: {race_name} on {date}\")\n",
    "        print(df)\n",
    "    else:\n",
    "        print(\"Failed to fetch data\")\n"
   ]
  },
  {
   "cell_type": "code",
   "execution_count": 4,
   "metadata": {},
   "outputs": [
    {
     "name": "stdout",
     "output_type": "stream",
     "text": [
      "Note: you may need to restart the kernel to use updated packages.\n"
     ]
    },
    {
     "name": "stderr",
     "output_type": "stream",
     "text": [
      "ERROR: Could not find a version that satisfies the requirement fetch_race_results (from versions: none)\n",
      "ERROR: No matching distribution found for fetch_race_results\n"
     ]
    },
    {
     "ename": "ModuleNotFoundError",
     "evalue": "No module named 'fetch_race_results'",
     "output_type": "error",
     "traceback": [
      "\u001b[1;31m---------------------------------------------------------------------------\u001b[0m",
      "\u001b[1;31mModuleNotFoundError\u001b[0m                       Traceback (most recent call last)",
      "Cell \u001b[1;32mIn[4], line 4\u001b[0m\n\u001b[0;32m      2\u001b[0m \u001b[38;5;28;01mimport\u001b[39;00m \u001b[38;5;21;01mmatplotlib\u001b[39;00m\u001b[38;5;21;01m.\u001b[39;00m\u001b[38;5;21;01mpyplot\u001b[39;00m \u001b[38;5;28;01mas\u001b[39;00m \u001b[38;5;21;01mplt\u001b[39;00m\n\u001b[0;32m      3\u001b[0m get_ipython()\u001b[38;5;241m.\u001b[39mrun_line_magic(\u001b[38;5;124m'\u001b[39m\u001b[38;5;124mpip\u001b[39m\u001b[38;5;124m'\u001b[39m, \u001b[38;5;124m'\u001b[39m\u001b[38;5;124minstall fetch_race_results\u001b[39m\u001b[38;5;124m'\u001b[39m)\n\u001b[1;32m----> 4\u001b[0m \u001b[38;5;28;01mfrom\u001b[39;00m \u001b[38;5;21;01mfetch_race_results\u001b[39;00m \u001b[38;5;28;01mimport\u001b[39;00m fetch_race_results, parse_race_results\n\u001b[0;32m      6\u001b[0m season \u001b[38;5;241m=\u001b[39m \u001b[38;5;241m2023\u001b[39m\n\u001b[0;32m      7\u001b[0m \u001b[38;5;28mround\u001b[39m \u001b[38;5;241m=\u001b[39m \u001b[38;5;241m1\u001b[39m\n",
      "\u001b[1;31mModuleNotFoundError\u001b[0m: No module named 'fetch_race_results'"
     ]
    }
   ],
   "source": [
    "import pandas as pd\n",
    "import matplotlib.pyplot as plt\n",
    "%pip install fetch_race_results\n",
    "from fetch_race_results import fetch_race_results, parse_race_results\n",
    "\n",
    "season = 2023\n",
    "round = 1\n",
    "data = fetch_race_results(season, round)\n",
    "if data:\n",
    "    race_name, date, df = parse_race_results(data)\n",
    "    print(f\"Race: {race_name} on {date}\")\n",
    "    display(df)\n",
    "\n",
    "    # Example analysis: Points distribution\n",
    "    df['points'] = df['points'].astype(float)\n",
    "    df.plot(kind='bar', x='driver', y='points', title='Points Distribution')\n",
    "    plt.show()\n",
    "else:\n",
    "    print(\"Failed to fetch data\")\n"
   ]
  },
  {
   "cell_type": "code",
   "execution_count": 3,
   "metadata": {},
   "outputs": [
    {
     "ename": "ModuleNotFoundError",
     "evalue": "No module named 'flask'",
     "output_type": "error",
     "traceback": [
      "\u001b[1;31m---------------------------------------------------------------------------\u001b[0m",
      "\u001b[1;31mModuleNotFoundError\u001b[0m                       Traceback (most recent call last)",
      "Cell \u001b[1;32mIn[3], line 1\u001b[0m\n\u001b[1;32m----> 1\u001b[0m \u001b[38;5;28;01mfrom\u001b[39;00m \u001b[38;5;21;01mflask\u001b[39;00m \u001b[38;5;28;01mimport\u001b[39;00m Flask, render_template\n\u001b[0;32m      2\u001b[0m \u001b[38;5;28;01mimport\u001b[39;00m \u001b[38;5;21;01mrequests\u001b[39;00m\n\u001b[0;32m      3\u001b[0m \u001b[38;5;28;01mimport\u001b[39;00m \u001b[38;5;21;01mpandas\u001b[39;00m \u001b[38;5;28;01mas\u001b[39;00m \u001b[38;5;21;01mpd\u001b[39;00m\n",
      "\u001b[1;31mModuleNotFoundError\u001b[0m: No module named 'flask'"
     ]
    }
   ],
   "source": [
    "from flask import Flask, render_template\n",
    "import requests\n",
    "import pandas as pd\n",
    "\n",
    "app = Flask(__name__)\n",
    "\n",
    "def fetch_race_results(season, round):\n",
    "    url = f\"http://ergast.com/api/f1/{season}/{round}/results.json\"\n",
    "    response = requests.get(url)\n",
    "    if response.status_code == 200:\n",
    "        return response.json()\n",
    "    else:\n",
    "        return None\n",
    "\n",
    "def parse_race_results(data):\n",
    "    race_info = data['MRData']['RaceTable']['Races'][0]\n",
    "    race_name = race_info['raceName']\n",
    "    date = race_info['date']\n",
    "    results = race_info['Results']\n",
    "       \n",
    "    parsed_results = []\n",
    "    for result in results:\n",
    "        parsed_results.append({\n",
    "            'position': result['position'],\n",
    "            'driver': f\"{result['Driver']['givenName']} {result['Driver']['familyName']}\",\n",
    "            'constructor': result['Constructor']['name'],\n",
    "            'grid': result['grid'],\n",
    "            'laps': result['laps'],\n",
    "            'status': result['status'],\n",
    "            'time': result['Time']['time'] if 'Time' in result else None,\n",
    "            'points': result['points']\n",
    "        })\n",
    "       \n",
    "    return race_name, date, pd.DataFrame(parsed_results)\n",
    "\n",
    "@app.route('/')\n",
    "def index():\n",
    "    season = 2023\n",
    "    round = 1\n",
    "    data = fetch_race_results(season, round)\n",
    "    if data:\n",
    "        race_name, date, df = parse_race_results(data)\n",
    "        return render_template('index.html', race_name=race_name, date=date, tables=[df.to_html(classes='data')], titles=df.columns.values)\n",
    "    else:\n",
    "        return \"Failed to fetch data\"\n",
    "\n",
    "if __name__ == \"__main__\":\n",
    "    app.run(debug=True)\n"
   ]
  },
  {
   "cell_type": "code",
   "execution_count": null,
   "metadata": {},
   "outputs": [],
   "source": []
  }
 ],
 "metadata": {
  "kernelspec": {
   "display_name": "Python 3",
   "language": "python",
   "name": "python3"
  },
  "language_info": {
   "codemirror_mode": {
    "name": "ipython",
    "version": 3
   },
   "file_extension": ".py",
   "mimetype": "text/x-python",
   "name": "python",
   "nbconvert_exporter": "python",
   "pygments_lexer": "ipython3",
   "version": "3.12.3"
  }
 },
 "nbformat": 4,
 "nbformat_minor": 2
}
