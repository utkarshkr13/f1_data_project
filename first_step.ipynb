{
 "cells": [
  {
   "cell_type": "code",
   "execution_count": 3,
   "metadata": {},
   "outputs": [
    {
     "name": "stdout",
     "output_type": "stream",
     "text": [
      "                                                        MRData\n",
      "xmlns                                http://ergast.com/mrd/1.5\n",
      "series                                                      f1\n",
      "url                http://ergast.com/api/f1/drivers/lewis.json\n",
      "limit                                                       30\n",
      "offset                                                       0\n",
      "total                                                        1\n",
      "DriverTable  {'driverId': 'lewis', 'Drivers': [{'driverId':...\n"
     ]
    }
   ],
   "source": [
    "import requests\n",
    "import pandas as pd\n",
    "\n",
    "# Example: Get current F1 race data\n",
    "url = \"http://ergast.com/api/f1/drivers/lewis.json\"\n",
    "response = requests.get(url)\n",
    "\n",
    "if response.status_code == 200:\n",
    "    data = response.json()\n",
    "    new_data = pd.DataFrame(data)\n",
    "    print(new_data)\n",
    "else:\n",
    "    print(\"Error fetching data from Ergast API\")\n",
    "    print(\"\")\n"
   ]
  }
 ],
 "metadata": {
  "kernelspec": {
   "display_name": "Python 3",
   "language": "python",
   "name": "python3"
  },
  "language_info": {
   "codemirror_mode": {
    "name": "ipython",
    "version": 3
   },
   "file_extension": ".py",
   "mimetype": "text/x-python",
   "name": "python",
   "nbconvert_exporter": "python",
   "pygments_lexer": "ipython3",
   "version": "3.12.3"
  }
 },
 "nbformat": 4,
 "nbformat_minor": 2
}
